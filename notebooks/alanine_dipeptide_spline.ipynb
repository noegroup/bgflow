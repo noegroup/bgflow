{
 "cells": [
  {
   "cell_type": "markdown",
   "id": "4610263e",
   "metadata": {},
   "source": [
    "# Alanine Dipeptide Example with High-Level Builder API\n",
    "\n",
    "This tutorial improves on the basic alanine example in various ways:\n",
    "\n",
    "1. It uses neural spline transforms, which are much more expressive than affine transforms. These are implemented in the third-party package `nflows`. You need to `pip install nflows` into your conda environment in order to run this notebook.\n",
    "\n",
    "2. It respects the domains of the ICs and the periodicity of torsions.\n",
    "\n",
    "3. It transforms internal coordinates in a physics-informed manner. Concretely, the \"slow\" degrees of freedom, torsions and \"fixed atoms\", are generated first. Angles and bonds are conditioned on these slow degrees of freedom and added later in an autoregressive manner.\n",
    "\n",
    "All that stuff happens under the hood of a high-level builder API."
   ]
  },
  {
   "cell_type": "code",
   "execution_count": 1,
   "id": "bd4717c9",
   "metadata": {},
   "outputs": [
    {
     "name": "stdout",
     "output_type": "stream",
     "text": [
      "Using downloaded and verified file: /tmp/alanine-dipeptide-nowater.pdb\n"
     ]
    }
   ],
   "source": [
    "import alanine_dipeptide_basics as basic\n",
    "import torch\n",
    "import bgflow as bg"
   ]
  },
  {
   "cell_type": "code",
   "execution_count": 2,
   "id": "bfe5763c",
   "metadata": {},
   "outputs": [],
   "source": [
    "# a brief check if this module is the main executable (or imported)\n",
    "main = (__name__ == \"__main__\")"
   ]
  },
  {
   "cell_type": "markdown",
   "id": "b349b8f7",
   "metadata": {},
   "source": [
    "## Define Boltzmann Generator"
   ]
  },
  {
   "cell_type": "markdown",
   "id": "2c18b000",
   "metadata": {},
   "source": [
    "Parse the prior dimensions etc. from the coordinate transform."
   ]
  },
  {
   "cell_type": "code",
   "execution_count": 3,
   "id": "3180d500",
   "metadata": {},
   "outputs": [],
   "source": [
    "#constrained_bonds = "
   ]
  },
  {
   "cell_type": "code",
   "execution_count": 4,
   "id": "b5743c32",
   "metadata": {},
   "outputs": [],
   "source": [
    "shape_info = bg.ShapeDictionary.from_coordinate_transform(\n",
    "    basic.coordinate_transform, #n_constraints=\n",
    ")"
   ]
  },
  {
   "cell_type": "code",
   "execution_count": 5,
   "id": "dca01715",
   "metadata": {},
   "outputs": [],
   "source": [
    "builder = bg.BoltzmannGeneratorBuilder(\n",
    "    shape_info, \n",
    "    target=basic.target_energy, \n",
    "    device=basic.device, \n",
    "    dtype=basic.dtype\n",
    ")"
   ]
  },
  {
   "cell_type": "markdown",
   "id": "625b6898",
   "metadata": {},
   "source": [
    "The builder class uses reasonable default choices for the transforms and conditioner networks but it's customizable. If you want to tinker with the settings, take a look at the documentation.\n",
    "\n",
    "For example each `add_condition` call can take various keyword arguments that specify the depth and width of the conditioner network, the transformer type, etc. To change the dimension and number of hidden layers in a conditioner, try something like `builder.add_condition(TORSION, on=FIXED, hidden=(32,64,32))`."
   ]
  },
  {
   "cell_type": "code",
   "execution_count": 6,
   "id": "7580399a",
   "metadata": {},
   "outputs": [],
   "source": [
    "from bgflow import TORSIONS, FIXED, BONDS, ANGLES"
   ]
  },
  {
   "cell_type": "code",
   "execution_count": 7,
   "id": "3cef0706",
   "metadata": {},
   "outputs": [],
   "source": [
    "for i in range(4):\n",
    "    builder.add_condition(TORSIONS, on=FIXED)\n",
    "    builder.add_condition(FIXED, on=TORSIONS)\n",
    "for i in range(2):\n",
    "    builder.add_condition(BONDS, on=ANGLES)\n",
    "    builder.add_condition(ANGLES, on=BONDS)\n",
    "builder.add_condition(ANGLES, on=(TORSIONS, FIXED))\n",
    "builder.add_condition(BONDS, on=(ANGLES, TORSIONS, FIXED))\n",
    "builder.add_map_to_ic_domains()\n",
    "builder.add_map_to_cartesian(basic.coordinate_transform)\n",
    "generator = builder.build_generator()"
   ]
  },
  {
   "cell_type": "code",
   "execution_count": 8,
   "id": "4020e753",
   "metadata": {},
   "outputs": [
    {
     "data": {
      "text/plain": [
       "tensor([[1.0356e+06],\n",
       "        [1.5594e+08],\n",
       "        [1.0977e+06],\n",
       "        [1.2423e+06],\n",
       "        [8.8816e+05],\n",
       "        [1.0489e+06],\n",
       "        [7.1776e+05],\n",
       "        [1.2417e+06],\n",
       "        [7.0166e+05],\n",
       "        [2.3317e+06]], device='cuda:0', grad_fn=<SubBackward0>)"
      ]
     },
     "execution_count": 8,
     "metadata": {},
     "output_type": "execute_result"
    }
   ],
   "source": [
    "# TEST\n",
    "# play forward and backward\n",
    "samples = generator.sample(2)\n",
    "energy = generator.energy(samples)\n",
    "generator.kldiv(10)"
   ]
  },
  {
   "cell_type": "markdown",
   "id": "89e571f5",
   "metadata": {},
   "source": [
    "## Train"
   ]
  },
  {
   "cell_type": "code",
   "execution_count": 9,
   "id": "f33c3d77",
   "metadata": {},
   "outputs": [],
   "source": [
    "nll_optimizer = torch.optim.Adam(generator.parameters(), lr=1e-3)\n",
    "nll_trainer = bg.KLTrainer(\n",
    "    generator, \n",
    "    optim=nll_optimizer,\n",
    "    train_energy=False\n",
    ")"
   ]
  },
  {
   "cell_type": "code",
   "execution_count": 10,
   "id": "0fc346f7",
   "metadata": {},
   "outputs": [
    {
     "name": "stdout",
     "output_type": "stream",
     "text": [
      "1\tNLL: -11.5241\t\n",
      "101\tNLL: -201.9352\t\n",
      "201\tNLL: -203.5098\t\n",
      "301\tNLL: -203.5309\t\n",
      "401\tNLL: -204.6270\t\n",
      "501\tNLL: -206.1364\t\n",
      "601\tNLL: -206.1335\t\n",
      "701\tNLL: -202.6712\t\n",
      "801\tNLL: -206.7183\t\n",
      "901\tNLL: -207.6888\t\n"
     ]
    }
   ],
   "source": [
    "if main:\n",
    "    nll_trainer.train(\n",
    "        n_iter=1000, \n",
    "        data=basic.training_data,\n",
    "        batchsize=128,\n",
    "        n_print=100, \n",
    "        w_energy=0.0\n",
    "    )"
   ]
  },
  {
   "cell_type": "markdown",
   "id": "4ff998e3",
   "metadata": {},
   "source": [
    "# Save and Load"
   ]
  },
  {
   "cell_type": "code",
   "execution_count": 11,
   "id": "def7c260",
   "metadata": {},
   "outputs": [],
   "source": [
    "#torch.save(generator.state_dict(), \"saved_model.pt\")"
   ]
  },
  {
   "cell_type": "code",
   "execution_count": 12,
   "id": "7fd32651",
   "metadata": {},
   "outputs": [],
   "source": [
    "#generator.load_state_dict(torch.load(\"saved_model.pt\"))"
   ]
  },
  {
   "cell_type": "markdown",
   "id": "a123ffb2",
   "metadata": {},
   "source": [
    "## Plot"
   ]
  },
  {
   "cell_type": "code",
   "execution_count": 13,
   "id": "2a157794",
   "metadata": {},
   "outputs": [],
   "source": [
    "from matplotlib import pyplot as plt"
   ]
  },
  {
   "cell_type": "code",
   "execution_count": 14,
   "id": "74b9fa0c",
   "metadata": {},
   "outputs": [
    {
     "name": "stderr",
     "output_type": "stream",
     "text": [
      "/srv/public/kraemea88/coding/bgflow/bgflow/nn/flow/crd_transform/ic_helper.py:283: UserWarning: singular division in torsion computation\n",
      "  warnings.warn(\"singular division in torsion computation\")\n"
     ]
    },
    {
     "name": "stdout",
     "output_type": "stream",
     "text": [
      "Sampling Efficiency:  0.00010388709051767364\n"
     ]
    },
    {
     "data": {
      "image/png": "[encoded data removed]",
      "text/plain": [
       "<Figure size 432x216 with 3 Axes>"
      ]
     },
     "metadata": {
      "needs_background": "light"
     },
     "output_type": "display_data"
    }
   ],
   "source": [
    "if main:\n",
    "    \n",
    "    n_samples = 10000\n",
    "    samples = generator.sample(n_samples)\n",
    "\n",
    "    fig, axes = plt.subplots(1, 2, figsize=(6,3))\n",
    "    fig.tight_layout()\n",
    "\n",
    "    basic.plot_phi_psi(axes[0], samples, basic.system)\n",
    "    basic.plot_energies(axes[1], samples, basic.target_energy, basic.test_data)\n",
    "\n",
    "    logw = generator.log_weights(samples)\n",
    "    print(\"Sampling Efficiency: \",  bg.sampling_efficiency(logw).item())\n",
    "    del samples"
   ]
  },
  {
   "cell_type": "code",
   "execution_count": 14,
   "id": "6b21cc31",
   "metadata": {},
   "outputs": [
    {
     "name": "stderr",
     "output_type": "stream",
     "text": [
      "/srv/public/kraemea88/coding/bgflow/bgflow/nn/flow/crd_transform/ic_helper.py:400: UserWarning: singular norm in xyz reconstruction\n",
      "  warnings.warn(\"singular norm in xyz reconstruction\")\n"
     ]
    }
   ],
   "source": [
    "import nglview as nv\n",
    "import mdtraj as md\n",
    "\n",
    "xyz = generator.sample(1000).detach().cpu().numpy().reshape(1000, -1, 3)\n",
    "#xyz = basic.dataset.xyz[:1000]\n",
    "\n",
    "traj = md.Trajectory(\n",
    "    xyz,\n",
    "    topology=basic.dataset.system.mdtraj_topology\n",
    ")\n"
   ]
  },
  {
   "cell_type": "code",
   "execution_count": 15,
   "id": "0af33018",
   "metadata": {},
   "outputs": [
    {
     "data": {
      "text/plain": [
       "(1000, 22, 3)"
      ]
     },
     "execution_count": 15,
     "metadata": {},
     "output_type": "execute_result"
    }
   ],
   "source": [
    "xyz.shape"
   ]
  },
  {
   "cell_type": "code",
   "execution_count": 13,
   "id": "7c82ff74",
   "metadata": {},
   "outputs": [
    {
     "data": {
      "application/vnd.jupyter.widget-view+json": {
       "model_id": "9f64df71498140f3bb477580f3c298af",
       "version_major": 2,
       "version_minor": 0
      },
      "text/plain": [
       "NGLWidget(max_frame=999)"
      ]
     },
     "metadata": {},
     "output_type": "display_data"
    }
   ],
   "source": [
    "nv.show_mdtraj(traj)"
   ]
  },
  {
   "cell_type": "code",
   "execution_count": null,
   "id": "dfad3684",
   "metadata": {},
   "outputs": [],
   "source": []
  }
 ],
 "metadata": {
  "kernelspec": {
   "display_name": "Python 3",
   "language": "python",
   "name": "python3"
  },
  "language_info": {
   "codemirror_mode": {
    "name": "ipython",
    "version": 3
   },
   "file_extension": ".py",
   "mimetype": "text/x-python",
   "name": "python",
   "nbconvert_exporter": "python",
   "pygments_lexer": "ipython3",
   "version": "3.7.10"
  }
 },
 "nbformat": 4,
 "nbformat_minor": 5
}
